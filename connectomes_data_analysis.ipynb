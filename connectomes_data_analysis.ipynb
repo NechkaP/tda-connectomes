{
 "cells": [
  {
   "cell_type": "markdown",
   "id": "f95e1682",
   "metadata": {},
   "source": [
    "### Считываем данные и делаем препроцессинг, в результате которого получаем списки коннектомов для контрольной группы и группы пациентов ###"
   ]
  },
  {
   "cell_type": "code",
   "execution_count": 1,
   "id": "eae927d4",
   "metadata": {},
   "outputs": [],
   "source": [
    "import numpy as np\n",
    "import pandas as pd\n",
    "import pathlib as plib"
   ]
  },
  {
   "cell_type": "code",
   "execution_count": 2,
   "id": "b488a647",
   "metadata": {},
   "outputs": [],
   "source": [
    "data_path = plib.Path(\"./data/OASIS3/ts_extracted\")"
   ]
  },
  {
   "cell_type": "code",
   "execution_count": 3,
   "id": "1d75b219",
   "metadata": {},
   "outputs": [],
   "source": [
    "controls_path = data_path / \"controls/AAL\"\n",
    "patients_path = data_path / \"patients/AAL\""
   ]
  },
  {
   "cell_type": "code",
   "execution_count": 4,
   "id": "d870a297",
   "metadata": {},
   "outputs": [],
   "source": [
    "alzheimer_features = [\n",
    "    \"Hippocampus_L\",\n",
    "    \"Hippocampus_R\",\n",
    "    \"ParaHippocampal_L\",\n",
    "    \"ParaHippocampal_R\",\n",
    "    \"Cingulum_Ant_L\",\n",
    "    \"Cingulum_Ant_R\",\n",
    "    \"Cingulum_Mid_L\",\n",
    "    \"Cingulum_Mid_R\",\n",
    "    \"Cingulum_Post_L\",\n",
    "    \"Cingulum_Post_R\",\n",
    "    \"Amygdala_L\",\n",
    "    \"Amygdala_R\"\n",
    "]"
   ]
  },
  {
   "cell_type": "code",
   "execution_count": 5,
   "id": "ed3c765f",
   "metadata": {},
   "outputs": [],
   "source": [
    "controls_connectomes = [np.corrcoef(pd.read_csv(table)[alzheimer_features].T) for table in controls_path.iterdir() if plib.Path(table).stat().st_size > 15 * 1024]\n",
    "patients_connectomes = [np.corrcoef(pd.read_csv(table)[alzheimer_features].T) for table in patients_path.iterdir() if plib.Path(table).stat().st_size > 15 * 1024]"
   ]
  },
  {
   "cell_type": "markdown",
   "id": "5a1937c2",
   "metadata": {},
   "source": [
    "**Смотрим на устойчивые гомологии фильтрации Вьеториса-Рипса**\n",
    "\n",
    "Рассмотрим матрицу вида $(D)_{ij} = 1 - C_{ij},$ где $C$ - матрица коннектома, в качестве матрицы попарных расстояний на множестве точек. К каждой такой матрице применим фильтрацию Вьеториса-Рипса и построим для неё диаграмму устойчивости для гомологий размерности не более $2$."
   ]
  },
  {
   "cell_type": "code",
   "execution_count": null,
   "id": "0ab7b4ef",
   "metadata": {},
   "outputs": [],
   "source": [
    "import ripser\n",
    "import matplotlib.pyplot as plt"
   ]
  },
  {
   "cell_type": "code",
   "execution_count": null,
   "id": "58bd9347",
   "metadata": {},
   "outputs": [],
   "source": [
    "rips = ripser.Rips(maxdim=2, verbose=False)\n",
    "controls_vr_diagrams = []\n",
    "patients_vr_diagrams = []"
   ]
  },
  {
   "cell_type": "code",
   "execution_count": null,
   "id": "eee556dc",
   "metadata": {},
   "outputs": [],
   "source": [
    "%%time\n",
    "for C in controls_connectomes:\n",
    "    D = 1 - C\n",
    "    controls_vr_diagrams.append(rips.fit_transform(D, distance_matrix=True))\n",
    "\n",
    "for C in patients_connectomes:\n",
    "    D = 1 - C\n",
    "    patients_vr_diagrams.append(rips.fit_transform(D, distance_matrix=True))"
   ]
  },
  {
   "cell_type": "code",
   "execution_count": null,
   "id": "c9286070",
   "metadata": {},
   "outputs": [],
   "source": [
    "controls_vr_diagrams = np.array(controls_vr_diagrams)\n",
    "patients_vr_diagrams = np.array(patients_vr_diagrams)"
   ]
  },
  {
   "cell_type": "code",
   "execution_count": null,
   "id": "aed4f2db",
   "metadata": {},
   "outputs": [],
   "source": [
    "import matplotlib.pyplot as plt\n",
    "import seaborn as sns"
   ]
  },
  {
   "cell_type": "code",
   "execution_count": null,
   "id": "009797eb",
   "metadata": {},
   "outputs": [],
   "source": [
    "%%time\n",
    "\n",
    "plt.figure(figsize=(6, 6))\n",
    "plt.grid(True)\n",
    "for diagram in controls_vr_diagrams:\n",
    "    plt.scatter(\n",
    "        [x[0] for x in diagram[1]],\n",
    "        [x[1] for x in diagram[1]], # 1-dimensional homologies\n",
    "        alpha=0.005, c='red')\n",
    "plt.show()"
   ]
  },
  {
   "cell_type": "code",
   "execution_count": null,
   "id": "4d22e931",
   "metadata": {},
   "outputs": [],
   "source": [
    "plt.figure(figsize=(6, 6))\n",
    "plt.grid(True)\n",
    "for diagram in patients_vr_diagrams:\n",
    "    plt.scatter(\n",
    "        [x[0] for x in diagram[1]],\n",
    "        [x[1] for x in diagram[1]], # 1-dimensional homologies\n",
    "        alpha=0.005, c='blue')"
   ]
  },
  {
   "cell_type": "code",
   "execution_count": null,
   "id": "95561f90",
   "metadata": {},
   "outputs": [],
   "source": [
    "plt.figure(figsize=(6, 6))\n",
    "plt.grid(True)\n",
    "for diagram in controls_vr_diagrams:\n",
    "    plt.scatter(\n",
    "        x=[x[0] for x in diagram[2]],\n",
    "        y=[x[1] for x in diagram[2]], # 2-dimensional homologies\n",
    "        alpha=0.005, c='orange')"
   ]
  },
  {
   "cell_type": "code",
   "execution_count": null,
   "id": "792adc02",
   "metadata": {},
   "outputs": [],
   "source": [
    "plt.figure(figsize=(6, 6))\n",
    "plt.grid(True)\n",
    "for diagram in patients_vr_diagrams:\n",
    "    plt.scatter(\n",
    "        [x[0] for x in diagram[2]],\n",
    "        [x[1] for x in diagram[2]], # 2-dimensional homologies\n",
    "        alpha=0.005, c=['purple'])"
   ]
  },
  {
   "cell_type": "code",
   "execution_count": null,
   "id": "916f1a95",
   "metadata": {},
   "outputs": [],
   "source": [
    "d = 30\n",
    "bins_left = np.arange(0, 2 * d)"
   ]
  },
  {
   "cell_type": "code",
   "execution_count": null,
   "id": "23b4b344",
   "metadata": {},
   "outputs": [],
   "source": [
    "bins = []\n",
    "for l in bins_left:\n",
    "    for r in np.arange(l, 2 * d + 1, 1):\n",
    "        bins.append((l / d, r / d))"
   ]
  },
  {
   "cell_type": "code",
   "execution_count": null,
   "id": "c580f4fd",
   "metadata": {},
   "outputs": [],
   "source": [
    "len(bins)"
   ]
  },
  {
   "cell_type": "code",
   "execution_count": null,
   "id": "8624c0c8",
   "metadata": {},
   "outputs": [],
   "source": [
    "bin_to_id = dict()\n",
    "for i in range(len(bins)):\n",
    "    bin_to_id[bins[i]] = i"
   ]
  },
  {
   "cell_type": "code",
   "execution_count": null,
   "id": "fcd6e9ff",
   "metadata": {},
   "outputs": [],
   "source": [
    "controls_vectors = []\n",
    "for diagram in controls_vr_diagrams:\n",
    "    vec = np.zeros((len(bins)))\n",
    "    for point in diagram[1]:\n",
    "        x, y = int(point[0] * d) / d, int(point[1] * d) / d\n",
    "        vec[bin_to_id[(x, y)]] += 1\n",
    "    for point in diagram[2]:\n",
    "        x, y = int(point[0] * d) / d, int(point[1] * d) / d\n",
    "        vec[bin_to_id[(x, y)]] += 1\n",
    "    controls_vectors.append(vec)"
   ]
  },
  {
   "cell_type": "code",
   "execution_count": null,
   "id": "fb0926ef",
   "metadata": {},
   "outputs": [],
   "source": [
    "patients_vectors = []\n",
    "for diagram in patients_vr_diagrams:\n",
    "    vec = np.zeros((len(bins)))\n",
    "    for point in diagram[1]:\n",
    "        x, y = int(point[0] * d) / d, int(point[1] * d) / d\n",
    "        vec[bin_to_id[(x, y)]] += 1\n",
    "    for point in diagram[2]:\n",
    "        x, y = int(point[0] * d) / d, int(point[1] * d) / d\n",
    "        vec[bin_to_id[(x, y)]] += 1\n",
    "    patients_vectors.append(vec)"
   ]
  },
  {
   "cell_type": "code",
   "execution_count": null,
   "id": "a9b3728a",
   "metadata": {},
   "outputs": [],
   "source": [
    "import sklearn.neighbors"
   ]
  },
  {
   "cell_type": "code",
   "execution_count": null,
   "id": "d360bf97",
   "metadata": {},
   "outputs": [],
   "source": [
    "clf = sklearn.neighbors.KNeighborsClassifier(n_neighbors=10)"
   ]
  },
  {
   "cell_type": "code",
   "execution_count": null,
   "id": "3436e146",
   "metadata": {},
   "outputs": [],
   "source": [
    "controls_vectors = np.array(controls_vectors)\n",
    "patients_vectors = np.array(patients_vectors)"
   ]
  },
  {
   "cell_type": "code",
   "execution_count": null,
   "id": "3c7de028",
   "metadata": {},
   "outputs": [],
   "source": [
    "X_train = np.concatenate((controls_vectors, patients_vectors), axis=0)\n",
    "y_train = np.zeros(len(X_train))\n",
    "y_train[len(controls_vectors):] = 1"
   ]
  },
  {
   "cell_type": "code",
   "execution_count": null,
   "id": "413b188c",
   "metadata": {},
   "outputs": [],
   "source": [
    "np.random.seed(57)\n",
    "np.random.shuffle(X_train)\n",
    "np.random.seed(57)\n",
    "np.random.shuffle(y_train)"
   ]
  },
  {
   "cell_type": "code",
   "execution_count": null,
   "id": "6d9efd31",
   "metadata": {},
   "outputs": [],
   "source": [
    "clf = clf.fit(X_train, y_train)"
   ]
  },
  {
   "cell_type": "code",
   "execution_count": null,
   "id": "4b826a26",
   "metadata": {},
   "outputs": [],
   "source": [
    "preds = clf.predict(X_train)"
   ]
  },
  {
   "cell_type": "code",
   "execution_count": null,
   "id": "c653f4c9",
   "metadata": {},
   "outputs": [],
   "source": [
    "np.sum(preds != y_train)"
   ]
  },
  {
   "cell_type": "code",
   "execution_count": null,
   "id": "8ad32a12",
   "metadata": {},
   "outputs": [],
   "source": [
    "thr = 0.5\n",
    "def accuracy(estimator, X, y):\n",
    "    return np.mean((estimator.predict(X) >= thr) == y)"
   ]
  },
  {
   "cell_type": "code",
   "execution_count": null,
   "id": "fa1b7823",
   "metadata": {},
   "outputs": [],
   "source": [
    "from sklearn.model_selection import cross_val_score"
   ]
  },
  {
   "cell_type": "code",
   "execution_count": null,
   "id": "e9168915",
   "metadata": {},
   "outputs": [],
   "source": [
    "cross_val_score(sklearn.neighbors.KNeighborsClassifier(n_neighbors=10), X_train, y_train, scoring=accuracy)"
   ]
  },
  {
   "cell_type": "code",
   "execution_count": null,
   "id": "428ef055",
   "metadata": {},
   "outputs": [],
   "source": [
    "from sklearn.linear_model import LinearRegression, Lasso, Ridge, LogisticRegression"
   ]
  },
  {
   "cell_type": "code",
   "execution_count": null,
   "id": "edffb8bc",
   "metadata": {},
   "outputs": [],
   "source": [
    "cross_val_score(sklearn.linear_model.LinearRegression(), X_train, y_train, scoring=accuracy)"
   ]
  },
  {
   "cell_type": "code",
   "execution_count": null,
   "id": "08f8d0ce",
   "metadata": {},
   "outputs": [],
   "source": [
    "cross_val_score(sklearn.linear_model.Lasso(alpha=0.05), X_train, y_train, scoring=accuracy)"
   ]
  },
  {
   "cell_type": "code",
   "execution_count": null,
   "id": "40af1fea",
   "metadata": {},
   "outputs": [],
   "source": [
    "cross_val_score(sklearn.linear_model.Ridge(alpha=0.1), X_train, y_train, scoring=accuracy)"
   ]
  },
  {
   "cell_type": "code",
   "execution_count": null,
   "id": "1445d656",
   "metadata": {},
   "outputs": [],
   "source": [
    "from sklearn.ensemble import RandomForestClassifier"
   ]
  },
  {
   "cell_type": "code",
   "execution_count": null,
   "id": "435b2fa8",
   "metadata": {},
   "outputs": [],
   "source": [
    "cross_val_score(sklearn.ensemble.RandomForestClassifier(n_estimators=100), X_train, y_train, scoring=accuracy)"
   ]
  },
  {
   "cell_type": "code",
   "execution_count": null,
   "id": "23d6b048",
   "metadata": {},
   "outputs": [],
   "source": [
    "from sklearn.tree import DecisionTreeClassifier"
   ]
  },
  {
   "cell_type": "code",
   "execution_count": null,
   "id": "fd40875b",
   "metadata": {},
   "outputs": [],
   "source": [
    "cross_val_score(sklearn.tree.DecisionTreeClassifier(), X_train, y_train, scoring=accuracy)"
   ]
  },
  {
   "cell_type": "code",
   "execution_count": null,
   "id": "8dbd167b",
   "metadata": {},
   "outputs": [],
   "source": [
    "X_train = np.concatenate((controls_vectors, patients_vectors), axis=0)\n",
    "y_train = np.zeros(len(X_train))\n",
    "y_train[len(controls_vectors):] = 1\n",
    "np.random.seed(57)\n",
    "np.random.shuffle(X_train)\n",
    "np.random.seed(57)\n",
    "np.random.shuffle(y_train)"
   ]
  },
  {
   "cell_type": "code",
   "execution_count": null,
   "id": "47a4e86c",
   "metadata": {},
   "outputs": [],
   "source": [
    "len(patients_vectors)"
   ]
  },
  {
   "cell_type": "code",
   "execution_count": null,
   "id": "9d96013a",
   "metadata": {},
   "outputs": [],
   "source": [
    "from sklearn.model_selection import LeaveOneOut"
   ]
  },
  {
   "cell_type": "code",
   "execution_count": null,
   "id": "382532c3",
   "metadata": {},
   "outputs": [],
   "source": [
    "X = X_train\n",
    "y = y_train"
   ]
  },
  {
   "cell_type": "code",
   "execution_count": null,
   "id": "4f677a1f",
   "metadata": {},
   "outputs": [],
   "source": [
    "%%time\n",
    "for n_neighbors in range(50, 210, 10):\n",
    "    clf = sklearn.neighbors.KNeighborsClassifier(n_neighbors=n_neighbors)\n",
    "    score = 0\n",
    "    for train_index, test_index in LeaveOneOut().split(X):\n",
    "        X_train, X_test = X[train_index], X[test_index]\n",
    "        y_train, y_test = y[train_index], y[test_index]\n",
    "        clf.fit(X_train, y_train)\n",
    "        score += clf.predict(X_test) == y_test\n",
    "    print(n_neighbors, score / len(X))"
   ]
  },
  {
   "cell_type": "code",
   "execution_count": null,
   "id": "4f792b4e",
   "metadata": {},
   "outputs": [],
   "source": [
    "cross_val_score(sklearn.linear_model.Lasso(alpha=0.1), X_train, y_train, scoring=accuracy)"
   ]
  },
  {
   "cell_type": "code",
   "execution_count": null,
   "id": "53f3565e",
   "metadata": {},
   "outputs": [],
   "source": [
    "cross_val_score(sklearn.linear_model.Ridge(alpha=0.1), X_train, y_train, scoring=accuracy)"
   ]
  },
  {
   "cell_type": "code",
   "execution_count": null,
   "id": "e65429c4",
   "metadata": {},
   "outputs": [],
   "source": [
    "cross_val_score(sklearn.tree.DecisionTreeClassifier(), X_train, y_train, scoring=accuracy)"
   ]
  },
  {
   "cell_type": "markdown",
   "id": "b29c7fd0",
   "metadata": {},
   "source": [
    "## Строим базис пространства циклов и проецируем графы (векторы весов рёбер графов) объектов на это пространство, используем проекции как векторы признаков для обучения ##\n",
    "\n",
    "### Описание идеи ###\n",
    "\n",
    "Рассмотрим все рёбра, которые не попали в максимальное остовное дерево. Таких рёбер в полном графе ровно $$\\frac{n(n - 1)}{2} - n + 1 = \\frac{(n - 1)(n - 2)}{2}.$$\n",
    "\n",
    "Каждое такое ребро при добавлении к максимальному остовному дереву порождает ровно один цикл, который является представителем своего класса $1$-мерных гомологий полного графа (поскольку мы не рассматриваем грани размерности выше $1$).\n",
    "\n",
    "Для каждого ребра не из максимального остовного дерева возьмём вектор в пространстве линейных комбинаций рёбер графа, который соответствует циклу, порождённому этим ребром (этот вектор равен знакочередующейся сумме рёбер.  Всего такие векторы линейно независимы и составляют базис пространства циклов, которое является подпространством размерности $\\frac{(n - 1)(n - 2)}{2}$ пространства линейных комбинаций рёбер (пространстве цепей размерности $1$), размерность которого составляет $\\frac{n(n - 1)}{2}$.\n",
    "\n",
    "Переберём все рёбра, не входящие в максимальный остов графа ```D_mean```, и для каждого ребра построим вектор, соответствующий циклу, который порождается добвлением этого ребра к остову. Таким образом, мы построим базис пространства циклов. Далее, будем представлять каждый коннектом из выборки как вектор весов рёбер (длины $n(n - 1) / 2$) и проецировать этот вектор на пространство циклов, а также находить разложение этой проекции по построенному нами выше базису пространства циклов.\n",
    "\n",
    "У описанной процедуры есть простая геометрическая интерпретация: если для данного коннектома в разложении его проекции по базису коэффициент при каком-то цикле большой, то данный цикл хорошо выражен в данном коннектоме.\n",
    "\n",
    "Предлагается использовать полученные разложения проекций коннектомов по построенному базису в виде векторов признаков для обучения моделей классификации."
   ]
  },
  {
   "cell_type": "markdown",
   "id": "4d005ed5",
   "metadata": {},
   "source": [
    "### Алгоритм: ###"
   ]
  },
  {
   "cell_type": "markdown",
   "id": "f62fd281",
   "metadata": {},
   "source": [
    "Находим поэлементное среднее матриц коннектомов всех объектов выборки:  "
   ]
  },
  {
   "cell_type": "code",
   "execution_count": 10,
   "id": "a8d3447f",
   "metadata": {},
   "outputs": [],
   "source": [
    "D_mean = 1 - np.mean(patients_connectomes, axis=0)"
   ]
  },
  {
   "cell_type": "markdown",
   "id": "37af2f1e",
   "metadata": {},
   "source": [
    "Напишем функцию, которая строит максимальное остовное дерево в графе алгоритмом Прима:"
   ]
  },
  {
   "cell_type": "code",
   "execution_count": 11,
   "id": "e5147ab1",
   "metadata": {},
   "outputs": [],
   "source": [
    "import typing as tp"
   ]
  },
  {
   "cell_type": "code",
   "execution_count": 12,
   "id": "7657dd7f",
   "metadata": {},
   "outputs": [],
   "source": [
    "def CalcMaxSpanningTreeEdgesSet(D: np.array) -> tp.List[tp.Tuple[int, int]]:\n",
    "    \"\"\"\n",
    "    С помощью алгоритма Прима находим\n",
    "    максимальное по весу остовное дерево в графе,\n",
    "    который задан матрицей смежности D.\n",
    "    \n",
    "    Возвращаем список рёбер (пар вершин), \n",
    "    которые входят в максимальное остовное дерево.\n",
    "    \"\"\"\n",
    "    n = len(D)\n",
    "    assert D.shape == (n, n)\n",
    "    \n",
    "    dist = D[0].copy()\n",
    "    prev = np.zeros(n)\n",
    "        \n",
    "    max_spanning_tree_edges = []\n",
    "    \n",
    "    for step in range(1, n):\n",
    "        max_dist = None\n",
    "        argmax = None\n",
    "        for i in range(1, n):\n",
    "            if dist[i] and (max_dist is None or max_dist < dist[i]):\n",
    "                max_dist = dist[i]\n",
    "                argmax = i\n",
    "                \n",
    "        p = int(prev[argmax])\n",
    "                \n",
    "        max_spanning_tree_edges.append((min(argmax, p), max(argmax, p)))\n",
    "        dist[argmax] = 0\n",
    "        \n",
    "        for i in range(1, n):\n",
    "            if dist[i] and dist[i] < D[argmax][i]:\n",
    "                dist[i] = D[argmax][i]\n",
    "                prev[i] = argmax\n",
    "                \n",
    "    max_spanning_tree_edges.sort()\n",
    "    return max_spanning_tree_edges"
   ]
  },
  {
   "cell_type": "markdown",
   "id": "4fe82255",
   "metadata": {},
   "source": [
    "Находим максимальное остовное дерево для среднего матриц коннектомов по контрольной группе:"
   ]
  },
  {
   "cell_type": "code",
   "execution_count": 13,
   "id": "bf1ef117",
   "metadata": {},
   "outputs": [
    {
     "name": "stdout",
     "output_type": "stream",
     "text": [
      "CPU times: user 145 µs, sys: 0 ns, total: 145 µs\n",
      "Wall time: 109 µs\n"
     ]
    }
   ],
   "source": [
    "%%time\n",
    "D_mean_MaxST = CalcMaxSpanningTreeEdgesSet(D_mean)"
   ]
  },
  {
   "cell_type": "markdown",
   "id": "5c17181a",
   "metadata": {},
   "source": [
    "По полученному набору рёбер остовного дерева построим матрицу смежности и списки смежности этого дерева (как невзвешенного графа)."
   ]
  },
  {
   "cell_type": "code",
   "execution_count": 14,
   "id": "9ec1ae45",
   "metadata": {},
   "outputs": [],
   "source": [
    "D_mean_MaxST_adj_lists = [[] for i in range(len(D_mean))]\n",
    "D_mean_MaxST_adj_matrix = np.zeros(D_mean.shape)\n",
    "\n",
    "for edge in D_mean_MaxST:\n",
    "    D_mean_MaxST_adj_lists[edge[0]].append(edge[1])\n",
    "    D_mean_MaxST_adj_lists[edge[1]].append(edge[0])\n",
    "    D_mean_MaxST_adj_matrix[edge[0]][edge[1]] = 1\n",
    "    D_mean_MaxST_adj_matrix[edge[1]][edge[0]] = 1"
   ]
  },
  {
   "cell_type": "markdown",
   "id": "17c5e486",
   "metadata": {},
   "source": [
    "Напишем несколько вспомогательных функций:"
   ]
  },
  {
   "cell_type": "code",
   "execution_count": 15,
   "id": "7ce9b5b4",
   "metadata": {},
   "outputs": [],
   "source": [
    "def Dfs(v: int, parent: tp.List[int], adj_lists: tp.List[tp.List[int]]) -> None:\n",
    "    \"\"\"\n",
    "    Делаем обход дерева в глубину,\n",
    "    при этом в массиве parent для каждой вершины\n",
    "    сохраняем номер её предка. \n",
    "    \"\"\"\n",
    "    p = parent[v]\n",
    "    for u in adj_lists[v]:\n",
    "        if u != p:\n",
    "            parent[u] = v\n",
    "            Dfs(u, parent, adj_lists)\n",
    "            \n",
    "\n",
    "def GetEdgeNum(u: int, v: int, n: int) -> int:\n",
    "    \"\"\"\n",
    "    Получаем по паре вершин u, v и общему числу вершин в графе n\n",
    "    номер ребра (u, v) в графе\n",
    "    (от 0 до n * (n - 1) // 2 - 1 включительно).\n",
    "    \"\"\"\n",
    "    u, v = min(u, v), max(u, v)                 \n",
    "    return u * (n * 2 - 1 - u) // 2 + v - u - 1\n",
    "\n",
    "    \n",
    "def GetPath(s: int, t: int, adj_lists: tp.List[tp.List[int]]) -> tp.List[int]:\n",
    "    \"\"\"\n",
    "    Находим в дереве, которое задаётся списками смежности adj_lists,\n",
    "    путь от вершины s до вершины t и возвращаем список вершин на этом пути.\n",
    "    \"\"\"\n",
    "    parent = [-1] * len(adj_lists)\n",
    "    Dfs(s, parent, adj_lists)\n",
    "    path = []\n",
    "    while t != s:\n",
    "        path.append(t)\n",
    "        t = parent[t]\n",
    "    path.append(s)\n",
    "    return path"
   ]
  },
  {
   "cell_type": "markdown",
   "id": "d4d34e15",
   "metadata": {},
   "source": [
    "Строим векторы, соответствующие циклам:"
   ]
  },
  {
   "cell_type": "code",
   "execution_count": 16,
   "id": "7f703856",
   "metadata": {},
   "outputs": [
    {
     "name": "stdout",
     "output_type": "stream",
     "text": [
      "CPU times: user 3.49 ms, sys: 594 µs, total: 4.08 ms\n",
      "Wall time: 9.12 ms\n"
     ]
    }
   ],
   "source": [
    "%%time\n",
    "\n",
    "n = len(D_mean)\n",
    "n_edges = n * (n - 1) // 2\n",
    "cycle_eigenvectors = []\n",
    "\n",
    "for i in range(n):\n",
    "    for j in range(i + 1, n):\n",
    "        if not D_mean_MaxST_adj_matrix[i, j]:\n",
    "            cycle_eigenvector = np.zeros(n_edges)\n",
    "            path = GetPath(i, j, D_mean_MaxST_adj_lists)\n",
    "            for k in range(len(path)):\n",
    "                cur, nxt = path[k], path[(k + 1) % len(path)]\n",
    "                edge_index = GetEdgeNum(cur, nxt, n)\n",
    "                cycle_eigenvector[edge_index] = 1 # if cur < nxt else -1\n",
    "            cycle_eigenvector /= np.sqrt(len(path))\n",
    "            cycle_eigenvectors.append(cycle_eigenvector)\n",
    "            assert np.abs(cycle_eigenvector @ cycle_eigenvector - 1) < 0.0000001\n",
    "            \n",
    "cycle_eigenvectors = np.array(cycle_eigenvectors).T"
   ]
  },
  {
   "cell_type": "markdown",
   "id": "9a9a1bf7",
   "metadata": {},
   "source": [
    "Находим проекции $\\pi_С(v_i),\\ i = 1, \\ldots, N$ (где $N$ - число объектов в выборке, $v_i$ - вектор весов рёбер для $i$-го объекта выборки) на пространство циклов $C$ по формуле\n",
    "$$\\pi_C(v) = C(C^TC)^{-1}C^Tv.$$\n",
    "\n",
    "Нас интересуют именно коэффициенты в разложении $\\pi_C(v)$ по базису из циклов, то есть, из столбцов матрицы $C$. Вектор этих коэфициентов, соответственно, находится по формуле $(C^TC)^{-1}C^Tv$.\n",
    "\n",
    "Для начала строим матрицу проекции $\\mathrm{Proj} = (C^TC)^{-1}C^T$:"
   ]
  },
  {
   "cell_type": "code",
   "execution_count": 17,
   "id": "484bf091",
   "metadata": {},
   "outputs": [],
   "source": [
    "import scipy.linalg"
   ]
  },
  {
   "cell_type": "code",
   "execution_count": 18,
   "id": "348b5b7a",
   "metadata": {},
   "outputs": [
    {
     "name": "stdout",
     "output_type": "stream",
     "text": [
      "CPU times: user 2.87 ms, sys: 4.58 ms, total: 7.45 ms\n",
      "Wall time: 10.3 ms\n"
     ]
    }
   ],
   "source": [
    "%%time\n",
    "proj_matrix = scipy.linalg.inv(cycle_eigenvectors.T @ cycle_eigenvectors) @ cycle_eigenvectors.T"
   ]
  },
  {
   "cell_type": "markdown",
   "id": "8a7c994f",
   "metadata": {},
   "source": [
    "Напишем функцию для перевода объектов из представления в виде матрицы коннектома в представление в виде вектора весов рёбер (эквивалентно, делаем ```flatten()``` для части матрицы коннектома выше главной диагонали): "
   ]
  },
  {
   "cell_type": "code",
   "execution_count": 19,
   "id": "7eb826ec",
   "metadata": {},
   "outputs": [],
   "source": [
    "def TransformConnectomeToEdgeVector(C: np.array) -> np.array:\n",
    "    n = len(C)\n",
    "    assert C.shape == (n, n)\n",
    "    \n",
    "    n_edges = n * (n - 1) // 2\n",
    "    edge_vector = np.ones(n_edges)\n",
    "    \n",
    "    l = 0\n",
    "    for i in range(n):\n",
    "        edge_vector[l:l + n - i - 1] -= C[i, i + 1:]\n",
    "        l += n - i - 1\n",
    "    return edge_vector"
   ]
  },
  {
   "cell_type": "markdown",
   "id": "4c210c9b",
   "metadata": {},
   "source": [
    "Находим разложения по базису циклов для проекций коннектомов из контрольной группы:"
   ]
  },
  {
   "cell_type": "code",
   "execution_count": 20,
   "id": "886fd61e",
   "metadata": {},
   "outputs": [],
   "source": [
    "controls_edge_vectors = []\n",
    "for C in controls_connectomes:\n",
    "    controls_edge_vectors.append(TransformConnectomeToEdgeVector(C))\n",
    "    \n",
    "controls_edge_vectors = np.array(controls_edge_vectors).T"
   ]
  },
  {
   "cell_type": "code",
   "execution_count": 21,
   "id": "d486d805",
   "metadata": {},
   "outputs": [],
   "source": [
    "controls_cycle_projections = proj_matrix @ controls_edge_vectors\n",
    "controls_cycle_projections = controls_cycle_projections.T # чтобы получить матрицу размера N_controls x ((n - 1)(n - 2)/2)"
   ]
  },
  {
   "cell_type": "code",
   "execution_count": 22,
   "id": "764b65a1",
   "metadata": {},
   "outputs": [
    {
     "data": {
      "text/plain": [
       "(1295, 55)"
      ]
     },
     "execution_count": 22,
     "metadata": {},
     "output_type": "execute_result"
    }
   ],
   "source": [
    "controls_cycle_projections.shape"
   ]
  },
  {
   "cell_type": "markdown",
   "id": "d8a65b47",
   "metadata": {},
   "source": [
    "Проделаем то же самое для коннектомов из группы пациентов:"
   ]
  },
  {
   "cell_type": "code",
   "execution_count": 23,
   "id": "dcb90f27",
   "metadata": {},
   "outputs": [],
   "source": [
    "patients_edge_vectors = []\n",
    "for C in patients_connectomes:\n",
    "    patients_edge_vectors.append(TransformConnectomeToEdgeVector(C))\n",
    "    \n",
    "patients_edge_vectors = np.array(patients_edge_vectors).T"
   ]
  },
  {
   "cell_type": "code",
   "execution_count": 24,
   "id": "0589ca32",
   "metadata": {},
   "outputs": [],
   "source": [
    "patients_cycle_projections = proj_matrix @ patients_edge_vectors\n",
    "patients_cycle_projections = patients_cycle_projections.T # чтобы получить матрицу размера N_patients x ((n - 1)(n - 2)/2)"
   ]
  },
  {
   "cell_type": "markdown",
   "id": "ccadb6e4",
   "metadata": {},
   "source": [
    "Строим датасет на полученных признаках для обучения (```X```, ```y```):"
   ]
  },
  {
   "cell_type": "code",
   "execution_count": 25,
   "id": "749865d2",
   "metadata": {},
   "outputs": [],
   "source": [
    "X = np.concatenate((controls_cycle_projections, patients_cycle_projections), axis=0)\n",
    "y = np.zeros(len(X))\n",
    "y[len(controls_cycle_projections):] = 1\n",
    "np.random.seed(57)\n",
    "np.random.shuffle(X)\n",
    "np.random.seed(57)\n",
    "np.random.shuffle(y)"
   ]
  },
  {
   "cell_type": "markdown",
   "id": "34920fee",
   "metadata": {},
   "source": [
    "Также построим датасет на векторизованных исходных матрицах коннектомов (```X_raw```, ```y_raw```):"
   ]
  },
  {
   "cell_type": "code",
   "execution_count": null,
   "id": "04abd461",
   "metadata": {},
   "outputs": [],
   "source": [
    "patients_edge_vectorsT = patients_edge_vectors.T\n",
    "controls_edge_vectorsT = controls_edge_vectors.T\n",
    "\n",
    "X_raw = np.concatenate((controls_edge_vectorsT, patients_edge_vectorsT), axis=0)\n",
    "y_raw = np.zeros(len(X_raw))\n",
    "y_raw[len(controls_edge_vectorsT):] = 1\n",
    "np.random.seed(57)\n",
    "np.random.shuffle(X)\n",
    "np.random.seed(57)\n",
    "np.random.shuffle(y)"
   ]
  },
  {
   "cell_type": "markdown",
   "id": "bdaacd72",
   "metadata": {},
   "source": [
    "#### Пытаемся обучить KNN и сравнить качество на проекциях на циклы vs векторизованных исходных матрицах коннектомов:"
   ]
  },
  {
   "cell_type": "code",
   "execution_count": 44,
   "id": "c2902a44",
   "metadata": {},
   "outputs": [],
   "source": [
    "from sklearn.neighbors import KNeighborsClassifier\n",
    "from sklearn.model_selection import cross_val_score, LeaveOneOut"
   ]
  },
  {
   "cell_type": "code",
   "execution_count": 46,
   "id": "182cb680",
   "metadata": {},
   "outputs": [],
   "source": [
    "n_neighbors_variants = [1, 3, 5, 11, 21, 31, 51, 71, 101, 151, 201]"
   ]
  },
  {
   "cell_type": "code",
   "execution_count": 47,
   "id": "c94ab7cf",
   "metadata": {},
   "outputs": [
    {
     "name": "stdout",
     "output_type": "stream",
     "text": [
      "KNN leave-one-out accuracy for 1 neighbors on cycle projections: [0.55734597]\n",
      "KNN leave-one-out accuracy for 3 neighbors on cycle projections: [0.55876777]\n",
      "KNN leave-one-out accuracy for 5 neighbors on cycle projections: [0.56919431]\n",
      "KNN leave-one-out accuracy for 11 neighbors on cycle projections: [0.59194313]\n",
      "KNN leave-one-out accuracy for 21 neighbors on cycle projections: [0.60758294]\n",
      "KNN leave-one-out accuracy for 31 neighbors on cycle projections: [0.61232227]\n",
      "KNN leave-one-out accuracy for 51 neighbors on cycle projections: [0.62085308]\n",
      "KNN leave-one-out accuracy for 71 neighbors on cycle projections: [0.61800948]\n",
      "KNN leave-one-out accuracy for 101 neighbors on cycle projections: [0.62843602]\n",
      "KNN leave-one-out accuracy for 151 neighbors on cycle projections: [0.62606635]\n",
      "KNN leave-one-out accuracy for 201 neighbors on cycle projections: [0.62322275]\n",
      "CPU times: user 2min 32s, sys: 7min 2s, total: 9min 35s\n",
      "Wall time: 52.2 s\n"
     ]
    }
   ],
   "source": [
    "%%time\n",
    "# проекции на циклы\n",
    "for n_neighbors in n_neighbors_variants:\n",
    "    clf = KNeighborsClassifier(n_neighbors=n_neighbors)\n",
    "    score = 0\n",
    "    for train_index, test_index in LeaveOneOut().split(X):\n",
    "        X_train, X_test = X[train_index], X[test_index]\n",
    "        y_train, y_test = y[train_index], y[test_index]\n",
    "        clf.fit(X_train, y_train)\n",
    "        score += clf.predict(X_test) == y_test\n",
    "    print(\"KNN leave-one-out accuracy for {} neighbors on cycle projections:\".format(n_neighbors), score / len(X))"
   ]
  },
  {
   "cell_type": "markdown",
   "id": "cdec2096",
   "metadata": {},
   "source": [
    "Сравним с обучением на непосредственно векторизованных матрицах коннектомов:"
   ]
  },
  {
   "cell_type": "code",
   "execution_count": 48,
   "id": "bf28e9e8",
   "metadata": {},
   "outputs": [
    {
     "name": "stdout",
     "output_type": "stream",
     "text": [
      "KNN leave-one-out accuracy for 1 neighbors on vectorized connectomes: [0.57393365]\n",
      "KNN leave-one-out accuracy for 3 neighbors on vectorized connectomes: [0.57251185]\n",
      "KNN leave-one-out accuracy for 5 neighbors on vectorized connectomes: [0.59905213]\n",
      "KNN leave-one-out accuracy for 11 neighbors on vectorized connectomes: [0.61137441]\n",
      "KNN leave-one-out accuracy for 21 neighbors on vectorized connectomes: [0.63033175]\n",
      "KNN leave-one-out accuracy for 31 neighbors on vectorized connectomes: [0.62132701]\n",
      "KNN leave-one-out accuracy for 51 neighbors on vectorized connectomes: [0.63175355]\n",
      "KNN leave-one-out accuracy for 71 neighbors on vectorized connectomes: [0.63033175]\n",
      "KNN leave-one-out accuracy for 101 neighbors on vectorized connectomes: [0.62748815]\n",
      "KNN leave-one-out accuracy for 151 neighbors on vectorized connectomes: [0.63459716]\n",
      "KNN leave-one-out accuracy for 201 neighbors on vectorized connectomes: [0.63033175]\n",
      "CPU times: user 2min 40s, sys: 7min 30s, total: 10min 11s\n",
      "Wall time: 55.9 s\n"
     ]
    }
   ],
   "source": [
    "%%time\n",
    "# векторизованные матрицы коннектомов\n",
    "for n_neighbors in n_neighbors_variants:\n",
    "    clf = KNeighborsClassifier(n_neighbors=n_neighbors)\n",
    "    score = 0\n",
    "    for train_index, test_index in LeaveOneOut().split(X_raw):\n",
    "        X_train, X_test = X_raw[train_index], X_raw[test_index]\n",
    "        y_train, y_test = y_raw[train_index], y_raw[test_index]\n",
    "        clf.fit(X_train, y_train)\n",
    "        score += clf.predict(X_test) == y_test\n",
    "    print(\"KNN leave-one-out accuracy for {} neighbors on vectorized connectomes:\".format(n_neighbors), score / len(X))"
   ]
  },
  {
   "cell_type": "markdown",
   "id": "61967af4",
   "metadata": {},
   "source": [
    "#### Сравним на линейных моделях:"
   ]
  },
  {
   "cell_type": "code",
   "execution_count": 52,
   "id": "82587c3c",
   "metadata": {},
   "outputs": [],
   "source": [
    "from sklearn.linear_model import LinearRegression, LogisticRegression, Lasso, Ridge\n",
    "from sklearn.svm import SVC"
   ]
  },
  {
   "cell_type": "code",
   "execution_count": 64,
   "id": "75c850f0",
   "metadata": {},
   "outputs": [
    {
     "name": "stdout",
     "output_type": "stream",
     "text": [
      "[0.61421801]\n",
      "CPU times: user 8min 59s, sys: 22min 14s, total: 31min 13s\n",
      "Wall time: 2min 52s\n"
     ]
    }
   ],
   "source": [
    "%%time\n",
    "# проекции на циклы\n",
    "clf = LogisticRegression(max_iter=500)\n",
    "score = 0\n",
    "for train_index, test_index in LeaveOneOut().split(X):\n",
    "    X_train, X_test = X[train_index], X[test_index]\n",
    "    y_train, y_test = y[train_index], y[test_index]\n",
    "    clf.fit(X_train, y_train)\n",
    "    score += clf.predict(X_test) == y_test\n",
    "print(score / len(X))"
   ]
  },
  {
   "cell_type": "code",
   "execution_count": 65,
   "id": "b48c94d3",
   "metadata": {},
   "outputs": [
    {
     "name": "stdout",
     "output_type": "stream",
     "text": [
      "[0.61800948]\n",
      "CPU times: user 12min 9s, sys: 29min 56s, total: 42min 6s\n",
      "Wall time: 3min 54s\n"
     ]
    }
   ],
   "source": [
    "%%time\n",
    "# векторизованные исходные матрицы\n",
    "clf = LogisticRegression(max_iter=500)\n",
    "score = 0\n",
    "for train_index, test_index in LeaveOneOut().split(X_raw):\n",
    "    X_train, X_test = X_raw[train_index], X_raw[test_index]\n",
    "    y_train, y_test = y_raw[train_index], y_raw[test_index]\n",
    "    clf.fit(X_train, y_train)\n",
    "    score += clf.predict(X_test) == y_test\n",
    "print(score / len(X))"
   ]
  },
  {
   "cell_type": "code",
   "execution_count": 58,
   "id": "d088f5f6",
   "metadata": {},
   "outputs": [
    {
     "name": "stdout",
     "output_type": "stream",
     "text": [
      "[0.62037915]\n",
      "CPU times: user 6min 52s, sys: 154 ms, total: 6min 52s\n",
      "Wall time: 6min 52s\n"
     ]
    }
   ],
   "source": [
    "%%time\n",
    "\n",
    "clf = SVC()\n",
    "\n",
    "score = 0\n",
    "for train_index, test_index in LeaveOneOut().split(X):\n",
    "    X_train, X_test = X[train_index], X[test_index]\n",
    "    y_train, y_test = y[train_index], y[test_index]\n",
    "    clf.fit(X_train, y_train)\n",
    "    score += clf.predict(X_test) == y_test\n",
    "print(score / len(X))"
   ]
  },
  {
   "cell_type": "code",
   "execution_count": null,
   "id": "8116e12b",
   "metadata": {},
   "outputs": [],
   "source": [
    "%%time\n",
    "\n",
    "clf = SVC()\n",
    "\n",
    "score = 0\n",
    "for train_index, test_index in LeaveOneOut().split(X_raw):\n",
    "    X_train, X_test = X_raw[train_index], X_raw[test_index]\n",
    "    y_train, y_test = y_raw[train_index], y_raw[test_index]\n",
    "    clf.fit(X_train, y_train)\n",
    "    score += clf.predict(X_test) == y_test\n",
    "print(score / len(X))"
   ]
  },
  {
   "cell_type": "code",
   "execution_count": null,
   "id": "50c27e30",
   "metadata": {},
   "outputs": [],
   "source": []
  }
 ],
 "metadata": {
  "kernelspec": {
   "display_name": "Python 3 (ipykernel)",
   "language": "python",
   "name": "python3"
  },
  "language_info": {
   "codemirror_mode": {
    "name": "ipython",
    "version": 3
   },
   "file_extension": ".py",
   "mimetype": "text/x-python",
   "name": "python",
   "nbconvert_exporter": "python",
   "pygments_lexer": "ipython3",
   "version": "3.9.5"
  }
 },
 "nbformat": 4,
 "nbformat_minor": 5
}
